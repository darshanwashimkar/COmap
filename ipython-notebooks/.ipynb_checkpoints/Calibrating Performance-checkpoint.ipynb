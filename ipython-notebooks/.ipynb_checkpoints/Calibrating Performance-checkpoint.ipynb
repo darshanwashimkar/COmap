{
 "cells": [
  {
   "cell_type": "code",
   "execution_count": 518,
   "metadata": {
    "collapsed": true
   },
   "outputs": [],
   "source": [
    "import subprocess as sp\n",
    "import matplotlib\n",
    "import Bio.SeqIO\n",
    "import Bio.Restriction\n",
    "import scipy\n",
    "import matplotlib.pyplot as plt\n",
    "%matplotlib inline\n",
    "import math\n",
    "import random\n",
    "import numpy as np\n",
    "from timeit import timeit\n",
    "import time"
   ]
  },
  {
   "cell_type": "code",
   "execution_count": 519,
   "metadata": {
    "collapsed": true
   },
   "outputs": [],
   "source": [
    "def FindSandTScores(infile_e, infile_w_e, loc = \"/s/oak/b/nobackup/darshanw/valuev_optmap_alignment-master/ovlp/\"):     \n",
    "    prg = loc + \"ovlp\"\n",
    "    output = loc+ \"TempOutput\"\n",
    "    lines_e = [line for line in open(infile_e)]\n",
    "    lines_w_e = [line for line in open(infile_w_e)]\n",
    "    temp_file = loc + \"temp\"\n",
    "\n",
    "    Naligned = 0\n",
    "    Sscores = []\n",
    "    Tscores = []\n",
    "    #for i in range(0, 2):\n",
    "    for i in range(0, len(lines_e)/3):\n",
    "        t = open(temp_file, 'w')\n",
    "        for j in range(0,3):\n",
    "            t.write(lines_e[i*3+j])\n",
    "        for j in range(0,3):\n",
    "            t.write(lines_w_e[i*3+j])\n",
    "        t.close()\n",
    "        rvalue = sp.check_output([prg, temp_file, output, \"0\", \"1\"], stderr=sp.STDOUT)\n",
    "        rvalue = rvalue.strip().split(\"\\n\")\n",
    "        scores = rvalue[-1].strip().split(\":\")\n",
    "        if(len(scores) > 2):\n",
    "            Naligned += 1\n",
    "            continue\n",
    "        else:\n",
    "            Tscores.append([float(scores[1]), i])\n",
    "            scores = rvalue[-2].strip().split(\":\")\n",
    "            Sscores.append([float(scores[1]), i])\n",
    "    \n",
    "    return([Sscores, Tscores, Naligned])"
   ]
  },
  {
   "cell_type": "code",
   "execution_count": 520,
   "metadata": {
    "collapsed": true
   },
   "outputs": [],
   "source": [
    "def getCorrespondingValAndPlot(A, B, k, m, d, path, output):\n",
    "    out = []\n",
    "    if(len(A) == 0 or len(B) == 0):\n",
    "        return(out);\n",
    "    Avalues = list(zip(*A)[0])\n",
    "    Aindex = list(zip(*A)[1])\n",
    "    Bvalues = list(zip(*B)[0])\n",
    "    Bindex = list(zip(*B)[1])\n",
    "    \n",
    "    for i in range(0, len(Bindex)):\n",
    "        try:\n",
    "            indx = Aindex.index(Bindex[i])\n",
    "        except:\n",
    "            continue\n",
    "        out.append([Avalues[indx], Bvalues[i], Bindex[i]])\n",
    "\n",
    "    plt.plot(zip(*out)[0],zip(*out)[1], \"*\")\n",
    "    plt.plot([0, 400], [0, 400], 'r-')\n",
    "    plt.xlabel(\"S-score before correction\")\n",
    "    plt.ylabel(\"S-score after correction\")\n",
    "    plt.savefig((path+'k'+str(k)+'m'+str(m)+'d'+str(d)+'.png'), bbox_inches='tight')\n",
    "    plt.show()\n",
    "    \n",
    "    improv = []\n",
    "    for v in out:\n",
    "        improv.append(v[1]/v[0])\n",
    "    output.write(\"S-score is improved for: \" + str(len([v for v in out if v[1]>v[0]])) + \" out of \"+str(len(out))+\" reads\\n\")\n",
    "    plt.hist(improv, 10)\n",
    "    plt.xlabel(\"Ratio of S-score after and before correction\")\n",
    "    plt.ylabel(\"Frequency\")\n",
    "    plt.tight_layout()    \n",
    "    plt.savefig((path+'k'+str(k)+'m'+str(m)+'d'+str(d)+'-hist'+'.png'), bbox_inches='tight')\n",
    "    plt.show()"
   ]
  },
  {
   "cell_type": "code",
   "execution_count": 521,
   "metadata": {
    "collapsed": true
   },
   "outputs": [],
   "source": [
    "def findTrueErrorLocation(E):\n",
    "    deletion = E.strip().split(\":\")[0].strip().split(\",\")\n",
    "    insertion = E.strip().split(\":\")[1].strip().split(\",\")\n",
    "    insertion = [ (int(insertion[i])+i) for i in range(0, len(insertion))]\n",
    "    deletion = [ (int(deletion[i])-i) for i in range(0, len(deletion))]\n",
    "    for z in range(0,len(deletion)):\n",
    "        less = [i for i in insertion if i < deletion[z]]\n",
    "        deletion[z] = deletion[z] + len(less)        \n",
    "    return(deletion, insertion)\n",
    "\n",
    "def howManyCorrected(dactual, iactual, dcorrected, icorrected):\n",
    "    correctlyCorrectedDeletions = 0\n",
    "    correctlyCorrectedInsertions = 0\n",
    "    incorrectlyCorrectedDeletions = 0\n",
    "    incorrectlyCorrecteInsertions = 0\n",
    "    for d in dcorrected:\n",
    "        for delloc in d[1]:\n",
    "            if delloc in dactual[d[0]][1]:\n",
    "                correctlyCorrectedDeletions+=1\n",
    "            else:\n",
    "                incorrectlyCorrectedDeletions+=1                \n",
    "    for i in icorrected:\n",
    "        for insloc in i[1]:\n",
    "            if insloc in iactual[i[0]][1]:\n",
    "                correctlyCorrectedInsertions+=1\n",
    "            else:\n",
    "                incorrectlyCorrecteInsertions+=1                \n",
    "    return(correctlyCorrectedDeletions,correctlyCorrectedInsertions,incorrectlyCorrectedDeletions,incorrectlyCorrecteInsertions)\n",
    "\n",
    "def findInsertionDeletion(factual, fcorrected, output):\n",
    "    dactual = []\n",
    "    iactual = []\n",
    "    dcorrected = []\n",
    "    icorrected = []\n",
    "    deletions = 0\n",
    "    insertions = 0\n",
    "    lines = [line for line in open(factual)]\n",
    "    for i in range(0, len(lines)):\n",
    "        R = findTrueErrorLocation(lines[i])\n",
    "        dactual.append([i, R[0]])\n",
    "        iactual.append([i, R[1]])\n",
    "    lines = [line for line in open(fcorrected)]\n",
    "    dloc = []\n",
    "    iloc = []    \n",
    "    for i in range(0, len(lines)):        \n",
    "        if(i%2 == 0):\n",
    "            line = lines[i].strip().split(\" \")\n",
    "            dloc = []\n",
    "            iloc = []\n",
    "            for e in line:\n",
    "                if(e[0] == '-'):                    \n",
    "                    e = e[1:]\n",
    "                    dloc.append(int(e))\n",
    "                elif(e[0] == '+'):\n",
    "                    e = e[1:]\n",
    "                    iloc.append(int(e))\n",
    "        else:            \n",
    "            deletions += int(lines[i].strip().split(\" \")[2])\n",
    "            insertions += int(lines[i].strip().split(\" \")[6])\n",
    "            readNo = int(lines[i].strip().split(\" \")[0])\n",
    "            dcorrected.append([readNo, dloc])\n",
    "            icorrected.append([readNo, iloc])\n",
    "    \n",
    "    ccd, cci, icd, ici = howManyCorrected(dactual, iactual, dcorrected, icorrected)\n",
    "    output.write(\"Deletions: \"+ str(deletions)+\"\\n\")\n",
    "    output.write(\"Insertions: \"+ str(insertions)+\"\\n\")\n",
    "    output.write(\"Correctly-Corrected-Deletions: \"+ str(ccd)+\"\\n\")\n",
    "    output.write(\"Incorrectly-Corrected-Deletions: \"+ str(icd)+\"\\n\")\n",
    "    output.write(\"Correctly-Corrected-Insertion: \"+ str(cci)+\"\\n\")\n",
    "    output.write(\"Incorrectly-Corrected-Insertion: \"+ str(ici)+\"\\n\")"
   ]
  },
  {
   "cell_type": "code",
   "execution_count": 522,
   "metadata": {
    "collapsed": true
   },
   "outputs": [],
   "source": [
    "def getAvg(S):\n",
    "    add = 0.0\n",
    "    for x in S:\n",
    "        add=add+x[0]\n",
    "    avg = add/len(S)\n",
    "    return(avg)"
   ]
  },
  {
   "cell_type": "code",
   "execution_count": 523,
   "metadata": {
    "collapsed": true
   },
   "outputs": [],
   "source": [
    "def seperateFile(inf, outf, elocf):\n",
    "    inlines = [line for line in open(inf)]\n",
    "    outlines = [line for line in open(outf)]\n",
    "    of = open(outf, \"w\")\n",
    "    ef = open(elocf, \"w\")\n",
    "    for i in range(0, (len(outlines)-len(inlines))):\n",
    "        ef.write(outlines[i])\n",
    "    for i in range((len(outlines)-len(inlines)), (len(outlines))):\n",
    "        of.write(outlines[i])\n",
    "    of.close()\n",
    "    ef.close()"
   ]
  },
  {
   "cell_type": "code",
   "execution_count": 532,
   "metadata": {
    "collapsed": true
   },
   "outputs": [],
   "source": [
    "def createExcel(copies, tot_del, tot_ins, in_file):\n",
    "    lines = [line for line in open(in_file)]    \n",
    "    print(\"Copies,K,MIN COMMON K IN READS (m),MIN_CONSENSUS (d),Deletions,True +ve (Del),Insertions,True +ve (Ins),Reads aligned (B),Avg S-score (B),Reads aligned (A),Avg S-score (A), Run-time\")            \n",
    "    linepset = 13\n",
    "    for i in range(0, len(lines)/linepset):\n",
    "        k = lines[0+i*linepset].strip().split(\" \")[1]\n",
    "        m = lines[0+i*linepset].strip().split(\" \")[4]\n",
    "        d = lines[0+i*linepset].strip().split(\" \")[8]\n",
    "        time = round(float(lines[1+i*linepset].strip().split(\" \")[4]),2)\n",
    "        no_algn_r_B = lines[2+i*linepset].strip().split(\":\")[1].strip().split(\"(\")[0]\n",
    "        tot_r = lines[2+i*linepset].strip().split(\":\")[1].strip().split(\"(\")[1].split(\")\")[0]\n",
    "        avg_S_B = round(float(lines[3+i*linepset].strip().split(\":\")[1].strip()),3)\n",
    "        no_algn_r_A = lines[4+i*linepset].strip().split(\":\")[1].strip().split(\"(\")[0]\n",
    "        avg_S_A = round(float(lines[5+i*linepset].strip().split(\":\")[1].strip()), 3)\n",
    "        no_algn_r_A_per = round(((int(no_algn_r_A)*100.0)/int(no_algn_r_B)),2)        \n",
    "        deletion = lines[7+i*linepset].strip().split(\":\")[1].strip()\n",
    "        insertion = lines[8+i*linepset].strip().split(\":\")[1].strip()\n",
    "        deletion_per = round(((float(deletion)/float(tot_del))*100.0),2)\n",
    "        insertion_per = round(((float(insertion)/float(tot_ins))*100.0),2)\n",
    "        correctd = lines[9+i*linepset].strip().split(\":\")[1].strip()\n",
    "        incorrectd = lines[10+i*linepset].strip().split(\":\")[1].strip()\n",
    "        correcti = lines[11+i*linepset].strip().split(\":\")[1].strip()\n",
    "        incorrecti = lines[12+i*linepset].strip().split(\":\")[1].strip()\n",
    "        correctdper = round((int(correctd)*100.0)/int(deletion),2)\n",
    "        correctiper = round((int(correcti)*100.0)/int(insertion),2)\n",
    "        print(str(copies)+\",\"+str(k)+\",\"+str(m)+\",\"+str(d)+\",\"+str(deletion_per)+\"% [\"+str(deletion)+\"],\"+str(correctdper)+\"% [\"+str(correctd)+\"],\"+str(insertion_per)+\"% [\"+str(insertion)+\"],\"+str(correctiper)+\"% [\"+str(correcti)+\"],\"+str(no_algn_r_B)+\"[\"+str(tot_r)+\"],\"+str(avg_S_B)+\",\"+str(no_algn_r_A_per)+\"% [\"+str(no_algn_r_A)+\"],\"+str(avg_S_A)+\",\"+str(time))"
   ]
  },
  {
   "cell_type": "code",
   "execution_count": 544,
   "metadata": {
    "collapsed": false,
    "scrolled": true
   },
   "outputs": [
    {
     "name": "stdout",
     "output_type": "stream",
     "text": [
      "Copies,K,MIN COMMON K IN READS (m),MIN_CONSENSUS (d),Deletions,True +ve (Del),Insertions,True +ve (Ins),Reads aligned (B),Avg S-score (B),Reads aligned (A),Avg S-score (A), Run-time\n",
      "300,3,2,2,83.53% [5691],85.63% [4873],78.67% [2276],84.8% [1930],1528[1536],67.843,99.41% [1519],69.19,2456.24\n",
      "300,3,2,3,82.2% [5600],85.75% [4802],76.91% [2225],86.07% [1915],1528[1536],67.843,99.41% [1519],69.375,2377.07\n"
     ]
    }
   ],
   "source": [
    "createExcel(\"300\", \"6813\", \"2893\", \"/s/oak/b/nobackup/darshanw/COmap/test/output/output.txt\")"
   ]
  },
  {
   "cell_type": "code",
   "execution_count": 545,
   "metadata": {
    "collapsed": false,
    "scrolled": true
   },
   "outputs": [
    {
     "data": {
      "image/png": "[encoded data removed]",
      "text/plain": [
       "<matplotlib.figure.Figure at 0x7fa74121f0d0>"
      ]
     },
     "metadata": {},
     "output_type": "display_data"
    },
    {
     "data": {
      "image/png": "[encoded data removed]",
      "text/plain": [
       "<matplotlib.figure.Figure at 0x7fa742b62f90>"
      ]
     },
     "metadata": {},
     "output_type": "display_data"
    }
   ],
   "source": [
    "copies = 100\n",
    "prg_path = \"/s/oak/b/nobackup/darshanw/COmap/\"\n",
    "prg = prg_path + \"bin/COmap\"\n",
    "in_file = prg_path + \"test/sim_single_molecule_100_newDel\"\n",
    "eloc_file = prg_path + \"test/sim_single_molecule_100_elocations\"\n",
    "e_free = prg_path + \"test/sim_single_molecule_100_efree\"\n",
    "output = open(prg_path + \"test/output/output.txt\", 'w', 0)\n",
    "for k in range(3,4):\n",
    "    for m in range(2,3):\n",
    "        for d in range(2,3):            \n",
    "            out_file = prg_path + \"test/output/sim_single_molecule_100_corrected\"\n",
    "            out_file = out_file+\"_k\"+str(k)+\"m\"+str(m)+\"d\"+str(d)+\"_\"+str(copies)\n",
    "            eloc_corrected = prg_path + \"test/output/corrected\"            \n",
    "            eloc_corrected = eloc_corrected+\"_k\"+str(k)+\"m\"+str(m)+\"d\"+str(d)+\"_\"+str(copies)                        \n",
    "            \n",
    "            output.write(\"k: \"+str(k)+\" | m: \"+str(m) + \" | d : \" + str(d)+ \" > \\n\")            \n",
    "            time = (timeit(stmt = \"subprocess.call(['\"+prg+\"', '-x','-z', '-k', '\"+str(k)+\"', '-m', '\"+str(m)+\"', '-d', '\"+str(d)+\"', '-f','\"+in_file+\"'], stdout = open('\"+out_file+\"', 'wb'), stderr=subprocess.STDOUT)\", setup = \"import subprocess\", number = 1))\n",
    "            output.write(\"Time taken to execute: \"+ str(time)+\" sec\\n\")\n",
    "            seperateFile(in_file, out_file, eloc_corrected)\n",
    "            S1, T1, Na1 = FindSandTScores(in_file, e_free)          \n",
    "            output.write(\"aligned without correction :\" + str(len(S1)) + \"(\"+ str(len(S1)+Na1) + \")\\n\")\n",
    "            output.write(\"S-score average before correction: \"+ str(getAvg(S1))+\"\\n\")\n",
    "            S2, T2, Na2 = FindSandTScores(out_file, e_free)\n",
    "            output.write(\"aligned after correction :\" + str(len(S2)) + \"(\"+ str(len(S2)+Na2) + \")\\n\")\n",
    "            output.write(\"S-score average after correction: \"+ str(getAvg(S2))+\"\\n\")\n",
    "            getCorrespondingValAndPlot(S1,S2, k, m, d, (prg_path+'test/images/'), output)\n",
    "            #sp.call([prg, \"-x\", \"-k\", str(k), \"-m\", str(m), \"-d\", str(d), \"-f\",in_file], stdout = open(eloc_corrected, \"wb\"), stderr=sp.STDOUT)            \n",
    "            findInsertionDeletion(eloc_file, eloc_corrected, output)\n",
    "output.close()"
   ]
  },
  {
   "cell_type": "code",
   "execution_count": null,
   "metadata": {
    "collapsed": false
   },
   "outputs": [],
   "source": []
  },
  {
   "cell_type": "code",
   "execution_count": null,
   "metadata": {
    "collapsed": false
   },
   "outputs": [],
   "source": []
  },
  {
   "cell_type": "code",
   "execution_count": null,
   "metadata": {
    "collapsed": false
   },
   "outputs": [],
   "source": []
  },
  {
   "cell_type": "code",
   "execution_count": null,
   "metadata": {
    "collapsed": false
   },
   "outputs": [],
   "source": []
  },
  {
   "cell_type": "code",
   "execution_count": null,
   "metadata": {
    "collapsed": false
   },
   "outputs": [],
   "source": []
  },
  {
   "cell_type": "code",
   "execution_count": 287,
   "metadata": {
    "collapsed": false
   },
   "outputs": [
    {
     "name": "stdout",
     "output_type": "stream",
     "text": [
      "Deletions: 17\n",
      "Insertions: 5\n",
      "Correctly-Corrected-Deletions: 12\n",
      "Incorrectly-Corrected-Deletions: 5\n",
      "Correctly-Corrected-Insertion: 3\n",
      "Incorrectly-Corrected-Insertion: 2\n"
     ]
    }
   ],
   "source": [
    "findInsertionDeletion(eloc_file, eloc_corrected)"
   ]
  },
  {
   "cell_type": "code",
   "execution_count": 410,
   "metadata": {
    "collapsed": false
   },
   "outputs": [
    {
     "name": "stdout",
     "output_type": "stream",
     "text": [
      "3\n"
     ]
    }
   ],
   "source": [
    "N = [[4,5],[6,1],[3,4], [6,10], [6,4]]\n",
    "print(len([n for n in N if n[1]>=n[0]]))"
   ]
  },
  {
   "cell_type": "code",
   "execution_count": 528,
   "metadata": {
    "collapsed": false
   },
   "outputs": [
    {
     "data": {
      "text/plain": [
       "4.13"
      ]
     },
     "execution_count": 528,
     "metadata": {},
     "output_type": "execute_result"
    }
   ],
   "source": [
    "round(4.12521,2)"
   ]
  },
  {
   "cell_type": "code",
   "execution_count": 543,
   "metadata": {
    "collapsed": false
   },
   "outputs": [
    {
     "data": {
      "text/plain": [
       "0"
      ]
     },
     "execution_count": 543,
     "metadata": {},
     "output_type": "execute_result"
    }
   ],
   "source": [
    "sp.call([\"mkdir\", \"kk\"])\n",
    "sp.call([\"mkdir\", \"keku\"])"
   ]
  },
  {
   "cell_type": "code",
   "execution_count": null,
   "metadata": {
    "collapsed": false
   },
   "outputs": [],
   "source": []
  },
  {
   "cell_type": "code",
   "execution_count": null,
   "metadata": {
    "collapsed": false
   },
   "outputs": [],
   "source": []
  },
  {
   "cell_type": "code",
   "execution_count": null,
   "metadata": {
    "collapsed": false
   },
   "outputs": [],
   "source": []
  },
  {
   "cell_type": "code",
   "execution_count": null,
   "metadata": {
    "collapsed": false
   },
   "outputs": [],
   "source": []
  },
  {
   "cell_type": "code",
   "execution_count": null,
   "metadata": {
    "collapsed": true
   },
   "outputs": [],
   "source": []
  }
 ],
 "metadata": {
  "kernelspec": {
   "display_name": "Python 2",
   "language": "python",
   "name": "python2"
  },
  "language_info": {
   "codemirror_mode": {
    "name": "ipython",
    "version": 2
   },
   "file_extension": ".py",
   "mimetype": "text/x-python",
   "name": "python",
   "nbconvert_exporter": "python",
   "pygments_lexer": "ipython2",
   "version": "2.7.10"
  }
 },
 "nbformat": 4,
 "nbformat_minor": 0
}
