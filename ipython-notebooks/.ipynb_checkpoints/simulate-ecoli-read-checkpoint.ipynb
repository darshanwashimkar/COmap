{
 "metadata": {
  "name": "",
  "signature": "sha256:49ef3d2e8f8f46ce03780401952a3448e00dd7b8c5b75f4ee296d289efc6d00e"
 },
 "nbformat": 3,
 "nbformat_minor": 0,
 "worksheets": [
  {
   "cells": [
    {
     "cell_type": "code",
     "collapsed": false,
     "input": [
      "import matplotlib\n",
      "import Bio.SeqIO\n",
      "import Bio.Restriction\n",
      "import scipy\n",
      "import matplotlib.pyplot as plt\n",
      "%matplotlib inline\n",
      "import math\n",
      "import random\n",
      "import numpy as np"
     ],
     "language": "python",
     "metadata": {},
     "outputs": [],
     "prompt_number": 1
    },
    {
     "cell_type": "code",
     "collapsed": false,
     "input": [
      "handle = open(\"/s/fir/a/nobackup/data/ECOLI_Reference_Genome/ecoli.fa\", \"rU\")\n",
      "for record in Bio.SeqIO.parse(handle, \"fasta\"):\n",
      "    ref_seq = record.seq\n",
      "frag_sizes = [len(seq) for seq in Bio.Restriction.XhoI.catalyse(ref_seq)]"
     ],
     "language": "python",
     "metadata": {},
     "outputs": [],
     "prompt_number": 100
    },
    {
     "cell_type": "code",
     "collapsed": false,
     "input": [
      "def subseq(seq, limits):\n",
      "    x,y = limits\n",
      "    if x < y : return seq[x:y]\n",
      "    return seq[x:len(seq)] + seq[0:y]"
     ],
     "language": "python",
     "metadata": {},
     "outputs": [],
     "prompt_number": 101
    },
    {
     "cell_type": "code",
     "collapsed": false,
     "input": [
      "molecules = []\n",
      "for i in range(1400):\n",
      "    breaks = []\n",
      "    num_breaks = 40 #random.randint(20,50)\n",
      "    for j in range(num_breaks):\n",
      "        breaks.append(random.randint(0,len(ref_seq) - 1))\n",
      "    breaks.sort()        \n",
      "    pairs = [(x,y) for x,y in zip(breaks[:-1], breaks[1:])] + [(breaks[-1], breaks[0])]\n",
      "    molecules += [[subseq(ref_seq, pair), pair] for pair in pairs]"
     ],
     "language": "python",
     "metadata": {},
     "outputs": [],
     "prompt_number": 102
    },
    {
     "cell_type": "code",
     "collapsed": false,
     "input": [
      "def sim(mol):\n",
      "    \"Return a simulated set of fragment sizes in bp for a Bio.SeqIO seq\"\n",
      "    error_locations = []\n",
      "    sites = [biosite - 1 for biosite in Bio.Restriction.XhoI.search(mol)]\n",
      "    e_f_sites = list(sites);\n",
      "    \n",
      "    for i, site in enumerate(sites):\n",
      "        if (random.randint(1,5) == 5):\n",
      "            sites.pop(i)\n",
      "            error_locations.append(i+1)                    \n",
      "            \n",
      "    allsites = [0] + sites + [len(mol)]\n",
      "    e_f_allsites = [0] + e_f_sites + [len(mol)]\n",
      "    # TODO add random break sites\n",
      "    sizes = [y - x for x,y in zip(allsites[:-1], allsites[1:])]\n",
      "    e_f_sizes = [y - x for x,y in zip(e_f_allsites[:-1], e_f_allsites[1:])]\n",
      "    sizes = [size/1000.0 for size in sizes] # convert to kb\n",
      "    e_f_sizes = [size/1000.0 for size in e_f_sizes] # convert to kb\n",
      "    sigma = .58\n",
      "    sizes = [size + random.gauss(0, math.sqrt(size*sigma**2)) for size in sizes]\n",
      "    sizes = [size for size in sizes if size > .5]\n",
      "    e_f_sizes = [size for size in e_f_sizes if size > .5]\n",
      "    return [sizes] + [e_f_sizes] + [error_locations]"
     ],
     "language": "python",
     "metadata": {},
     "outputs": [],
     "prompt_number": 241
    },
    {
     "cell_type": "code",
     "collapsed": false,
     "input": [
      "sim(molecules[1][0])[2]\n",
      "\n",
      "el.close()"
     ],
     "language": "python",
     "metadata": {},
     "outputs": [
      {
       "ename": "ValueError",
       "evalue": "I/O operation on closed file",
       "output_type": "pyerr",
       "traceback": [
        "\u001b[1;31m---------------------------------------------------------------------------\u001b[0m\n\u001b[1;31mValueError\u001b[0m                                Traceback (most recent call last)",
        "\u001b[1;32m<ipython-input-260-7829303db3d0>\u001b[0m in \u001b[0;36m<module>\u001b[1;34m()\u001b[0m\n\u001b[0;32m      1\u001b[0m \u001b[0msim\u001b[0m\u001b[1;33m(\u001b[0m\u001b[0mmolecules\u001b[0m\u001b[1;33m[\u001b[0m\u001b[1;36m1\u001b[0m\u001b[1;33m]\u001b[0m\u001b[1;33m[\u001b[0m\u001b[1;36m0\u001b[0m\u001b[1;33m]\u001b[0m\u001b[1;33m)\u001b[0m\u001b[1;33m[\u001b[0m\u001b[1;36m2\u001b[0m\u001b[1;33m]\u001b[0m\u001b[1;33m\u001b[0m\u001b[0m\n\u001b[1;32m----> 2\u001b[1;33m \u001b[0mel\u001b[0m\u001b[1;33m.\u001b[0m\u001b[0mwrite\u001b[0m\u001b[1;33m(\u001b[0m\u001b[1;34m\" \"\u001b[0m\u001b[1;33m.\u001b[0m\u001b[0mjoin\u001b[0m\u001b[1;33m(\u001b[0m\u001b[1;33m[\u001b[0m\u001b[0mstr\u001b[0m\u001b[1;33m(\u001b[0m\u001b[0mnum\u001b[0m\u001b[1;33m)\u001b[0m \u001b[1;32mfor\u001b[0m \u001b[0mnum\u001b[0m \u001b[1;32min\u001b[0m \u001b[0msim\u001b[0m\u001b[1;33m(\u001b[0m\u001b[0mmolecules\u001b[0m\u001b[1;33m[\u001b[0m\u001b[1;36m1\u001b[0m\u001b[1;33m]\u001b[0m\u001b[1;33m[\u001b[0m\u001b[1;36m0\u001b[0m\u001b[1;33m]\u001b[0m\u001b[1;33m)\u001b[0m\u001b[1;33m[\u001b[0m\u001b[1;36m2\u001b[0m\u001b[1;33m]\u001b[0m\u001b[1;33m]\u001b[0m\u001b[1;33m)\u001b[0m\u001b[1;33m)\u001b[0m\u001b[1;33m\u001b[0m\u001b[0m\n\u001b[0m\u001b[0;32m      3\u001b[0m \u001b[0mel\u001b[0m\u001b[1;33m.\u001b[0m\u001b[0mclose\u001b[0m\u001b[1;33m(\u001b[0m\u001b[1;33m)\u001b[0m\u001b[1;33m\u001b[0m\u001b[0m\n",
        "\u001b[1;31mValueError\u001b[0m: I/O operation on closed file"
       ]
      }
     ],
     "prompt_number": 260
    },
    {
     "cell_type": "code",
     "collapsed": false,
     "input": [
      "m = open(\"sim_ecoli_XhoI2.valuev\",\"w\")\n",
      "mwe = open(\"sim_ecoli_XhoI2_without_errors.valuev\",\"w\") # Without inserting errors\n",
      "mo = open(\"sim_ecoli_XhoI2.origin\",\"w\")\n",
      "el = open(\"sim_ecoli_XhoI2.error_locations\",\"w\")"
     ],
     "language": "python",
     "metadata": {},
     "outputs": [],
     "prompt_number": 263
    },
    {
     "cell_type": "code",
     "collapsed": false,
     "input": [
      "length_of_original = []\n",
      "length_of_errored = []\n",
      "for i, mol in enumerate((molecule for molecule in molecules if len(molecule[0]) > 250000)):\n",
      "    simulated = sim(mol[0])    \n",
      "    lens = [str(round(frag,3)) for frag in simulated[0]]\n",
      "    if len(lens) < 10: continue\n",
      "    map_name = \"map_\" + str(i) + \"\\n\"\n",
      "    m.write(map_name)\n",
      "    #frag_seqs = Bio.Restriction.XhoI.catalyse(mol)\n",
      "    \n",
      "    m.write(\"\\tXhoI\\tXhoI\\t\" + \"\\t\".join(lens) + \"\\n\")\n",
      "    m.write(\"\\n\")\n",
      "    \n",
      "    lens_e_free = [str(round(frag,3)) for frag in simulated[1]]\n",
      "    mwe.write(map_name)\n",
      "    mwe.write(\"\\tXhoI\\tXhoI\\t\" + \"\\t\".join(lens_e_free) + \"\\n\")\n",
      "    mwe.write(\"\\n\")\n",
      "    \n",
      "    mo.write(\"origin[\" + map_name + \"] = \")\n",
      "    mo.write(repr(mol[1]))\n",
      "    mo.write(\"\\n\")\n",
      "    length_of_errored.append(len(lens))\n",
      "    length_of_original.append(len(lens_e_free))\n",
      "    #if i == 100: break\n",
      "    el.write(\" \".join([str(num) for num in simulated[2]]) + \"\\n\")\n",
      "m.close()\n",
      "mo.close()\n",
      "mwe.close()\n",
      "el.close()"
     ],
     "language": "python",
     "metadata": {},
     "outputs": [],
     "prompt_number": 264
    },
    {
     "cell_type": "code",
     "collapsed": false,
     "input": [
      "def nextRange(cur_range, bin_size, s_varience):\n",
      "    if(cur_range < 2000):\n",
      "        return(cur_range+ bin_size)\n",
      "    else:\n",
      "        return(round(((cur_range/1000.0) + 3 * math.sqrt((cur_range/1000.0) * s_varience))*1000))\n",
      "\n",
      "quantizeList = []\n",
      "def quantizeNew(val, bin_size, s_varience):    \n",
      "    if(val == 0):\n",
      "        return(0)\n",
      "    \n",
      "    if(len(quantizeList) == 0):\n",
      "        quantizeList.append(0.0)\n",
      "        quantizeList.append(nextRange(0.0, bin_size, s_varience))\n",
      "        \n",
      "    for i in range(len(quantizeList)):\n",
      "        if(val < quantizeList[i]):\n",
      "            return(quantizeList[i-1])\n",
      "    while(1):\n",
      "        quantizeList.append(nextRange(quantizeList[len(quantizeList) - 1], bin_size, s_varience))\n",
      "        if(val < quantizeList[len(quantizeList) - 1]):\n",
      "            return(quantizeList[len(quantizeList) - 2])"
     ],
     "language": "python",
     "metadata": {},
     "outputs": [],
     "prompt_number": 2
    },
    {
     "cell_type": "code",
     "collapsed": false,
     "input": [
      "variance = 0.7\n",
      "counter_val = []\n",
      "for num in range(1, 100):\n",
      "    value = []\n",
      "    counter = 0\n",
      "    for x in range(0, 100):\n",
      "        value.append(num + random.gauss(0, math.sqrt(num*variance)))\n",
      "\n",
      "    counter = 0\n",
      "    for v in value:\n",
      "        if(quantizeNew((v*1000), 200, variance) == quantizeNew((num * 1000), 200, variance)):\n",
      "            counter += 1    \n",
      "    counter_val.append(counter)"
     ],
     "language": "python",
     "metadata": {},
     "outputs": [],
     "prompt_number": 3
    },
    {
     "cell_type": "code",
     "collapsed": false,
     "input": [
      "plt.hist(counter_val, bins= 30)\n",
      "plt.xlabel(\"Number of correct quantization\")\n",
      "plt.show()"
     ],
     "language": "python",
     "metadata": {},
     "outputs": [
      {
       "metadata": {},
       "output_type": "display_data",
       "png": "[encoded data removed]",
       "text": [
        "<matplotlib.figure.Figure at 0x7f9a52024590>"
       ]
      }
     ],
     "prompt_number": 5
    },
    {
     "cell_type": "code",
     "collapsed": false,
     "input": [],
     "language": "python",
     "metadata": {},
     "outputs": [],
     "prompt_number": 379
    },
    {
     "cell_type": "code",
     "collapsed": false,
     "input": [
      "avgCV = [(10,0.1),(20, 0.3),(30,0.4)]\n",
      "aa = 45\n",
      "bb = 0.5\n",
      "avgCV.append((aa,bb))"
     ],
     "language": "python",
     "metadata": {},
     "outputs": [],
     "prompt_number": 18
    },
    {
     "cell_type": "code",
     "collapsed": false,
     "input": [
      "avgCV = []\n",
      "varArray = []\n",
      "for variance in np.arange(0,1,0.001):\n",
      "    counter_val = []\n",
      "    for num in range(1, 100):\n",
      "        value = []\n",
      "        counter = 0\n",
      "        for x in range(0, 100):\n",
      "            value.append(num + random.gauss(0, math.sqrt(num*variance)))\n",
      "\n",
      "        counter = 0\n",
      "        for v in value:\n",
      "            if(quantizeNew((v*1000), 200, variance) == quantizeNew((num * 1000), 200, variance)):\n",
      "                counter += 1    \n",
      "        counter_val.append(counter)\n",
      "    avgCV.append(sum(counter_val)/len(counter_val))\n",
      "    varArray.append(variance)"
     ],
     "language": "python",
     "metadata": {},
     "outputs": [],
     "prompt_number": 13
    },
    {
     "cell_type": "code",
     "collapsed": false,
     "input": [
      "plt.plot(varArray, avgCV)\n",
      "plt.plot(varArray[50], avgCV[50], 'rD')\n",
      "plt.plot(varArray[100], avgCV[100], 'rD')\n",
      "plt.plot(varArray[200], avgCV[200], 'rD')\n",
      "plt.plot(varArray[250], avgCV[250], 'rD')\n",
      "plt.plot(varArray[300], avgCV[300], 'rD')\n",
      "plt.plot(varArray[333], avgCV[333], 'rD')\n",
      "plt.xlabel(\"Varience\")\n",
      "plt.ylabel(\"Correct quantization\")\n",
      "plt.show()"
     ],
     "language": "python",
     "metadata": {},
     "outputs": [
      {
       "metadata": {},
       "output_type": "display_data",
       "png": "[encoded data removed]",
       "text": [
        "<matplotlib.figure.Figure at 0x7f9a51ddba90>"
       ]
      }
     ],
     "prompt_number": 15
    },
    {
     "cell_type": "code",
     "collapsed": false,
     "input": [],
     "language": "python",
     "metadata": {},
     "outputs": [
      {
       "metadata": {},
       "output_type": "pyout",
       "prompt_number": 7,
       "text": [
        "96"
       ]
      }
     ],
     "prompt_number": 7
    },
    {
     "cell_type": "code",
     "collapsed": false,
     "input": [
      "random.gauss(0, math.sqrt(4.0*0.33))"
     ],
     "language": "python",
     "metadata": {},
     "outputs": [
      {
       "metadata": {},
       "output_type": "pyout",
       "prompt_number": 368,
       "text": [
        "2.350026684320475"
       ]
      }
     ],
     "prompt_number": 368
    },
    {
     "cell_type": "code",
     "collapsed": false,
     "input": [
      "plt.hist(value, bins=20)"
     ],
     "language": "python",
     "metadata": {},
     "outputs": [
      {
       "metadata": {},
       "output_type": "pyout",
       "prompt_number": 283,
       "text": [
        "(array([  1.,   0.,   2.,   0.,   3.,   1.,   5.,   4.,   6.,  11.,   4.,\n",
        "         14.,  11.,  15.,   9.,   7.,   5.,   1.,   0.,   1.]),\n",
        " array([ 125.91155669,  127.88818454,  129.86481238,  131.84144023,\n",
        "         133.81806808,  135.79469593,  137.77132378,  139.74795162,\n",
        "         141.72457947,  143.70120732,  145.67783517,  147.65446301,\n",
        "         149.63109086,  151.60771871,  153.58434656,  155.56097441,\n",
        "         157.53760225,  159.5142301 ,  161.49085795,  163.4674858 ,\n",
        "         165.44411365]),\n",
        " <a list of 20 Patch objects>)"
       ]
      },
      {
       "metadata": {},
       "output_type": "display_data",
       "png": "[encoded data removed]",
       "text": [
        "<matplotlib.figure.Figure at 0x7f753063ae50>"
       ]
      }
     ],
     "prompt_number": 283
    },
    {
     "cell_type": "code",
     "collapsed": false,
     "input": [
      "molecules[0][1]"
     ],
     "language": "python",
     "metadata": {},
     "outputs": [
      {
       "metadata": {},
       "output_type": "pyout",
       "prompt_number": 119,
       "text": [
        "(26585, 139739)"
       ]
      }
     ],
     "prompt_number": 119
    },
    {
     "cell_type": "code",
     "collapsed": false,
     "input": [
      "lines = [line.rstrip('\\n') for line in open('sim_ecoli_XhoI2.valuev')]\n",
      "counter = 1\n",
      "lines_e = []\n",
      "for line in lines:\n",
      "    counter = counter + 1;\n",
      "    if(counter%3 == 0):\n",
      "        lines_e.append(line)"
     ],
     "language": "python",
     "metadata": {},
     "outputs": [],
     "prompt_number": 230
    },
    {
     "cell_type": "code",
     "collapsed": false,
     "input": [
      "lines = [line.rstrip('\\n') for line in open('sim_ecoli_XhoI2_without_errors.valuev')]\n",
      "counter = 1\n",
      "lines_w_e = []\n",
      "for line in lines:\n",
      "    counter = counter + 1;\n",
      "    if(counter%3 == 0):\n",
      "        lines_w_e.append(line)"
     ],
     "language": "python",
     "metadata": {},
     "outputs": [],
     "prompt_number": 231
    },
    {
     "cell_type": "code",
     "collapsed": false,
     "input": [
      "file_o = open(\"deletion\",\"w\")\n",
      "for no, line in enumerate(lines_e):    \n",
      "    file_o.write(str(no) + \" \" + str(len(lines_w_e[no].split(\"\\t\")) - len(lines_e[no].split(\"\\t\"))) + \"\\n\")\n",
      "file_o.close()"
     ],
     "language": "python",
     "metadata": {},
     "outputs": [],
     "prompt_number": 267
    },
    {
     "cell_type": "code",
     "collapsed": false,
     "input": [
      "strrr = []\n",
      "stll = \"\\takb\\taasd\"\n",
      "strrr.append(stll)\n",
      "len(strrr[0].split(\"\\t\"))"
     ],
     "language": "python",
     "metadata": {},
     "outputs": [
      {
       "metadata": {},
       "output_type": "pyout",
       "prompt_number": 255,
       "text": [
        "3"
       ]
      }
     ],
     "prompt_number": 255
    },
    {
     "cell_type": "code",
     "collapsed": false,
     "input": [
      "xs = []\n",
      "for x in range(500, 10000):\n",
      "    x = x /1000.0\n",
      "    xs.append(x + random.gauss(0, math.sqrt(x*0.03)))"
     ],
     "language": "python",
     "metadata": {},
     "outputs": [],
     "prompt_number": 76
    },
    {
     "cell_type": "code",
     "collapsed": false,
     "input": [
      "plt.plot(xs)"
     ],
     "language": "python",
     "metadata": {},
     "outputs": [
      {
       "metadata": {},
       "output_type": "pyout",
       "prompt_number": 77,
       "text": [
        "[<matplotlib.lines.Line2D at 0x7f095656fb90>]"
       ]
      },
      {
       "metadata": {},
       "output_type": "display_data",
       "png": "[encoded data removed]",
       "text": [
        "<matplotlib.figure.Figure at 0x7f09567ffbd0>"
       ]
      }
     ],
     "prompt_number": 77
    },
    {
     "cell_type": "code",
     "collapsed": false,
     "input": [
      "quantizeNew((90000), 600, 0.33)"
     ],
     "language": "python",
     "metadata": {},
     "outputs": [
      {
       "metadata": {},
       "output_type": "pyout",
       "prompt_number": 132,
       "text": [
        "85143.0"
       ]
      }
     ],
     "prompt_number": 132
    },
    {
     "cell_type": "code",
     "collapsed": false,
     "input": [
      "def drawLine(fses):\n",
      "    print(fses)\n",
      "    plt.clf()\n",
      "    cur_len = 0\n",
      "    pre_len = 0\n",
      "    plt.figure(figsize=(30,1))\n",
      "    for fs in fses:\n",
      "        pre_len = cur_len\n",
      "        cur_len += f\n",
      "        plt.plot((pre_len,cur_len),(1,1),'-|')    \n",
      "    plt.xlim(0,cur_len)\n",
      "    plt.ylim(0,3)\n",
      "    plt.savefig(\"sample.jpg\", dpi = 700)\n",
      "    plt.show()\n",
      "    plt.clf()\n",
      "    plt.cla()\n",
      "    plt.close()"
     ],
     "language": "python",
     "metadata": {},
     "outputs": [],
     "prompt_number": 95
    },
    {
     "cell_type": "code",
     "collapsed": false,
     "input": [
      "drawLine(frag_sizes)"
     ],
     "language": "python",
     "metadata": {},
     "outputs": [
      {
       "output_type": "stream",
       "stream": "stdout",
       "text": [
        "[47077, 55381, 40525, 2335, 27290, 18043, 7616, 1806, 5554, 23391, 12, 23605, 28270, 24142, 27238, 8511, 6776, 24921, 1462, 5108, 24335, 11058, 27070, 43326, 49950, 51518, 16481, 37904, 4946, 35071, 17610, 58586, 28871, 14231, 71874, 55145, 2763, 37516, 2107, 3698, 2894, 16741, 60041, 36938, 19058, 4897, 32535, 3642, 4556, 17626, 3007, 12754, 28213, 730, 26300, 33522, 9614, 178, 27279, 28887, 13417, 2786, 21812, 24018, 7009, 14835, 72120, 9739, 10360, 64508, 11884, 18627, 28582, 1557, 2506, 1913, 11641, 15440, 8697, 6170, 45312, 4218, 15062, 20234, 12854, 12396, 48964, 34111, 55638, 56159, 48165, 101, 2099, 13095, 111629, 66318, 116010, 32342, 14882, 79243, 504, 4995, 10312, 37236, 32650, 3417, 12928, 87122, 14466, 15855, 110769, 28703, 4878, 24503, 84549, 3166, 25931, 24461, 68447, 70083, 30152, 24183, 11068, 3284, 6952, 28481, 19404, 44525, 38583, 36019, 76733, 3374, 13436, 27244, 13969, 7883, 1620, 58762, 3167, 44549, 24700, 44498, 39605, 8075, 4687, 32319, 18488, 17260, 10482, 42730, 37485, 6481, 29060, 4547, 14475, 60323, 13128, 498, 12437, 19199, 8085, 17715, 91796, 162, 24820, 64611, 42963, 249, 28217, 20233, 14977, 21401, 40922, 25728, 15415, 20810, 45383, 35631, 42729]\n"
       ]
      },
      {
       "metadata": {},
       "output_type": "display_data",
       "text": [
        "<matplotlib.figure.Figure at 0x7f752fe1b450>"
       ]
      },
      {
       "metadata": {},
       "output_type": "display_data",
       "png": "[encoded data removed]",
       "text": [
        "<matplotlib.figure.Figure at 0x7f752ff5e710>"
       ]
      }
     ],
     "prompt_number": 96
    },
    {
     "cell_type": "code",
     "collapsed": false,
     "input": [
      "unsigned int nextRange(unsigned int cur_range, unsigned int bin_size,double s_varience){\n",
      "    if(cur_range < 2000)\n",
      "        return(cur_range + bin_size);\n",
      "    else\n",
      "        return(round(((double)(cur_range/1000.0) + 3 * sqrt(((double)cur_range/1000.0) * s_varience))*1000));\n",
      "}\n",
      "\n",
      "\n",
      "unsigned int quantizeNew(unsigned int val, unsigned int bin_size, double s_varience){\n",
      "\n",
      "    static vector<double> quantizeList;\n",
      "    \n",
      "    if(val == 0){\n",
      "        return(0);\n",
      "    }\n",
      "    if(quantizeList.size() == 0){\n",
      "        quantizeList.push_back(0.0);\n",
      "        quantizeList.push_back(nextRange(0.0, bin_size, s_varience));\n",
      "    }\n",
      "    for(int i = 0; i < quantizeList.size(); i++){ \n",
      "        if(val < quantizeList[i])\n",
      "            return(quantizeList[i-1]);\n",
      "    }\n",
      "    while(1){\n",
      "        quantizeList.push_back(nextRange(quantizeList[quantizeList.size() - 1], bin_size, s_varience));\n",
      "        if(val < quantizeList[quantizeList.size() - 1]){\n",
      "            return(quantizeList[quantizeList.size() - 2]);\n",
      "        }\n",
      "    }\n",
      "}"
     ],
     "language": "python",
     "metadata": {},
     "outputs": [
      {
       "ename": "SyntaxError",
       "evalue": "invalid syntax (<ipython-input-139-cd7250970183>, line 1)",
       "output_type": "pyerr",
       "traceback": [
        "\u001b[1;36m  File \u001b[1;32m\"<ipython-input-139-cd7250970183>\"\u001b[1;36m, line \u001b[1;32m1\u001b[0m\n\u001b[1;33m    unsigned int nextRange(unsigned int cur_range, unsigned int bin_size,double s_varience){\u001b[0m\n\u001b[1;37m               ^\u001b[0m\n\u001b[1;31mSyntaxError\u001b[0m\u001b[1;31m:\u001b[0m invalid syntax\n"
       ]
      }
     ],
     "prompt_number": 139
    },
    {
     "cell_type": "code",
     "collapsed": false,
     "input": [],
     "language": "python",
     "metadata": {},
     "outputs": [],
     "prompt_number": 342
    },
    {
     "cell_type": "code",
     "collapsed": false,
     "input": [
      "readns = [0, 3438,3229,2546,584,1752,4241,3332,4306,3068,2180,1866,3979,1596,2695,3997,79,1174,4129,4195,1175,1764,4289]\n",
      "\n",
      "for readn in readns:\n",
      "    no = readn + 1\n",
      "    no = no * 3    \n",
      "    !head -$no sim_ecoli_XhoI2.valuev > temp\n",
      "    !tail -3 temp"
     ],
     "language": "python",
     "metadata": {},
     "outputs": [
      {
       "output_type": "stream",
       "stream": "stdout",
       "text": [
        "map_0\r\n",
        "\tXhoI\tXhoI\t6.562\t27.076\t11.596\t6.658\t1.491\t5.836\t23.983\t51.173\t27.908\t38.728\t8.209\t26.263\t8.753\t29.52\t3.588\r\n",
        "\r\n"
       ]
      },
      {
       "output_type": "stream",
       "stream": "stdout",
       "text": [
        "map_5016\r\n",
        "\tXhoI\tXhoI\t2.659\t27.978\t36.338\t4.602\t6.125\t27.368\t21.16\t50.312\t35.094\t37.044\t64.428\r\n",
        "\r\n"
       ]
      },
      {
       "output_type": "stream",
       "stream": "stdout",
       "text": [
        "map_4726\r\n",
        "\tXhoI\tXhoI\t71.176\t43.686\t2.008\t30.933\t15.141\t5.339\t1.474\t6.85\t20.074\t21.276\t52.829\t29.101\t9.401\t34.788\t1.546\t4.004\t27.158\t8.097\t27.256\t23.295\r\n",
        "\r\n"
       ]
      },
      {
       "output_type": "stream",
       "stream": "stdout",
       "text": [
        "map_3718\r\n",
        "\tXhoI\tXhoI\t24.392\t26.217\t3.037\t26.446\t25.636\t30.497\t20.03\t25.282\t8.48\t8.083\t25.968\t1.032\t4.8\t21.993\t8.999\t28.408\t24.593\r\n",
        "\r\n"
       ]
      },
      {
       "output_type": "stream",
       "stream": "stdout",
       "text": [
        "map_892\r\n",
        "\tXhoI\tXhoI\t19.095\t90.292\t25.994\t16.034\t7.609\t1.244\t7.491\t20.277\t23.678\t27.483\t46.896\t6.066\t33.322\t6.398\t23.583\t12.825\t30.796\t36.207\r\n",
        "\r\n"
       ]
      },
      {
       "output_type": "stream",
       "stream": "stdout",
       "text": [
        "map_2588\r\n",
        "\tXhoI\tXhoI\t24.719\t16.577\t10.575\t2.442\t33.274\t24.549\t33.428\t25.933\t26.108\t8.794\t5.032\t23.501\t2.128\t6.374\t24.975\t8.843\t28.366\t7.897\r\n",
        "\r\n"
       ]
      },
      {
       "output_type": "stream",
       "stream": "stdout",
       "text": [
        "map_6222\r\n",
        "\tXhoI\tXhoI\t5.249\t2.123\t25.171\t17.246\t8.428\t2.07\t22.45\t21.39\t52.651\t34.739\t5.35\t27.92\t0.972\t3.962\t26.11\t8.444\t32.608\t2.863\r\n",
        "\r\n"
       ]
      },
      {
       "output_type": "stream",
       "stream": "stdout",
       "text": [
        "map_4866\r\n",
        "\tXhoI\tXhoI\t29.162\t25.245\t26.184\t21.913\t37.017\t29.934\t1.318\t6.869\t22.752\t10.244\t28.099\t45.529\t109.849\t14.047\t37.609\t41.347\t15.652\t54.815\t17.049\r\n",
        "\r\n"
       ]
      },
      {
       "output_type": "stream",
       "stream": "stdout",
       "text": [
        "map_6319\r\n",
        "\tXhoI\tXhoI\t30.375\t41.44\t1.479\t27.701\t16.804\t5.819\t1.398\t4.799\t23.026\t47.43\t23.476\t36.774\t34.313\t1.931\t4.761\t28.416\t12.865\t24.45\t41.404\r\n",
        "\r\n"
       ]
      },
      {
       "output_type": "stream",
       "stream": "stdout",
       "text": [
        "map_4497\r\n",
        "\tXhoI\tXhoI\t4.263\t26.38\t26.054\t27.436\t11.93\t8.82\t25.298\t1.214\t4.949\t23.385\t11.706\t27.192\t45.856\t51.88\t51.856\t18.435\t41.711\t6.67\t32.482\t17.67\t53.367\t28.473\t13.565\t13.364\r\n",
        "\r\n"
       ]
      },
      {
       "output_type": "stream",
       "stream": "stdout",
       "text": [
        "map_3192\r\n",
        "\tXhoI\tXhoI\t8.96\t37.85\t6.784\t25.755\t7.678\t19.895\t11.138\t27.823\t41.917\t59.738\t60.354\t19.368\t34.81\t4.589\t47.462\r\n",
        "\r\n"
       ]
      },
      {
       "output_type": "stream",
       "stream": "stdout",
       "text": [
        "map_2741\r\n",
        "\tXhoI\tXhoI\t67.784\t57.53\t45.251\t8.091\t25.732\t55.775\t43.916\t30.146\t36.268\t3.791\t4.818\t13.781\t2.61\t10.608\t33.096\t22.64\t53.71\t27.498\r\n",
        "\r\n"
       ]
      },
      {
       "output_type": "stream",
       "stream": "stdout",
       "text": [
        "map_5834\r\n",
        "\tXhoI\tXhoI\t11.293\t83.008\t62.606\t2.014\t41.261\t6.894\t20.543\t54.814\t32.465\t18.864\t5.99\t33.944\t3.278\t21.729\t2.107\t11.222\t30.621\t22.707\t33.647\t8.287\t0.656\t25.538\t26.467\t16.59\t20.186\t25.597\t6.449\t12.515\t72.691\t10.627\t10.241\t63.396\t14.378\t32.764\r\n",
        "\r\n"
       ]
      },
      {
       "output_type": "stream",
       "stream": "stdout",
       "text": [
        "map_2374\r\n",
        "\tXhoI\tXhoI\t6.463\t51.674\t41.208\t1.266\t26.313\t17.243\t11.249\t6.266\t22.348\t25.911\t24.653\t26.445\t38.714\t30.155\t1.301\t5.531\t21.898\t12.929\t29.869\t40.76\t42.019\t49.533\t55.257\t40.928\t17.32\t56.199\t31.856\t15.979\r\n",
        "\r\n"
       ]
      },
      {
       "output_type": "stream",
       "stream": "stdout",
       "text": [
        "map_3938\r\n",
        "\tXhoI\tXhoI\t1.946\t27.819\t0.879\t5.829\t25.019\t8.965\t5.166\t49.162\t3.934\t14.081\t19.824\t11.723\t8.195\t78.421\t50.867\t18.999\r\n",
        "\r\n"
       ]
      },
      {
       "output_type": "stream",
       "stream": "stdout",
       "text": [
        "map_5859\r\n",
        "\tXhoI\tXhoI\t19.037\t36.91\t5.988\t23.484\t1.435\t6.445\t23.761\t11.059\t24.067\t42.569\t46.207\t23.263\r\n",
        "\r\n"
       ]
      },
      {
       "output_type": "stream",
       "stream": "stdout",
       "text": [
        "map_127\r\n",
        "\tXhoI\tXhoI\t13.705\t17.584\t7.447\t0.847\t4.711\t29.759\t27.611\t53.431\t24.987\t9.789\t5.472\t22.68\t6.421\t25.577\t11.128\t7.88\r\n",
        "\r\n"
       ]
      },
      {
       "output_type": "stream",
       "stream": "stdout",
       "text": [
        "map_1750\r\n",
        "\tXhoI\tXhoI\t35.009\t42.286\t5.457\t27.739\t19.727\t32.395\t55.648\t7.78\t10.713\t22.229\t1.232\t6.342\t26.745\t10.648\t39.216\r\n",
        "\r\n"
       ]
      },
      {
       "output_type": "stream",
       "stream": "stdout",
       "text": [
        "map_6054\r\n",
        "\tXhoI\tXhoI\t29.973\t1.854\t33.329\t17.519\t6.167\t0.555\t4.618\t17.241\t22.107\t24.146\t23.962\t30.886\t7.876\t7.577\t26.237\t7.888\t24.422\t10.891\t29.723\t3.103\r\n",
        "\r\n"
       ]
      },
      {
       "output_type": "stream",
       "stream": "stdout",
       "text": [
        "map_6152\r\n",
        "\tXhoI\tXhoI\t4.083\t2.531\t31.011\t17.251\t8.146\t1.228\t5.47\t26.07\t18.84\t24.475\t20.216\t34.993\t6.098\t19.743\t1.061\t6.165\t22.388\t11.389\t64.977\t49.54\t57.742\t2.689\r\n",
        "\r\n"
       ]
      },
      {
       "output_type": "stream",
       "stream": "stdout",
       "text": [
        "map_1753\r\n",
        "\tXhoI\tXhoI\t9.672\t28.257\t21.264\t6.315\t1.407\t4.918\t21.389\t51.019\t25.967\t30.149\t17.632\t24.309\t1.867\t7.296\t30.176\t6.517\t26.459\r\n",
        "\r\n"
       ]
      },
      {
       "output_type": "stream",
       "stream": "stdout",
       "text": [
        "map_2607\r\n",
        "\tXhoI\tXhoI\t10.887\t58.092\t47.496\t2.471\t28.556\t28.147\t2.47\t6.876\t20.683\t21.425\t48.645\t34.127\t7.505\t6.569\t23.703\t1.63\t5.431\t23.327\t8.651\t30.044\t2.369\r\n",
        "\r\n"
       ]
      },
      {
       "output_type": "stream",
       "stream": "stdout",
       "text": [
        "map_6293\r\n",
        "\tXhoI\tXhoI\t43.223\t1.06\t29.349\t15.546\t8.077\t5.977\t20.515\t51.741\t27.441\t36.922\t6.269\t29.501\t5.426\t22.509\t10.306\t21.232\t91.858\t56.014\t12.614\t42.209\t5.825\t55.735\t33.148\r\n",
        "\r\n"
       ]
      }
     ],
     "prompt_number": 280
    },
    {
     "cell_type": "code",
     "collapsed": false,
     "input": [
      "#!/usr/bin/python                                                                                                                                                                                                                                                              \n",
      "\n",
      "import sys\n",
      "from math import ceil,log,sqrt\n",
      "\n",
      "if len(sys.argv) < 4:\n",
      "    print(\"Usage: \", sys.argv[0], \"<input.valuev> <STDDEVs per bin> <STDDEV per kb> <output.valuev>\")\n",
      "    sys.exit(1)\n",
      "\n",
      "#sigma = float(sys.argv[3])\n",
      "sigma = 0.58\n",
      "#m = float(sys.argv[2]) / 2  # divide by two just because I solved the algebra in terms of a delta defined as the bin boundary to the center                                                                                                                                    \n",
      "m = 2.0\n",
      "# U(n) = 1/4 m^2 sigma^2 (4 (c_1+n)^2-1)  (c_1 is an arbitrary parameter)                                                                                                                                                                                                      \n",
      "# let c_1 = 0                                                                                                                                                                                                                                                                  \n",
      "# position = 1/4 * m**2 * sigma**2 * (4 * n**2 - 1)                                                                                                                                                                                                                            \n",
      "# formulate a function that gives a real number for bin from a position, inverse of U(n)                                                                                                                                                                                       \n",
      "# log( (4* position / m**2 / sigma**2 + 1 ) / 4 ),2 =   n                                                                                                                                                                                                                      \n",
      "\n",
      "# p = 1/4 * m**2 * sigma**2 * (4 * n**2 - 1)                                                                                                                                                                                                                                   \n",
      "# p * 4 = m**2 * sigma**2 * (4 * n**2 - 1)                                                                                                                                                                                                                                     \n",
      "# p * 4 / m**2 = sigma**2 * (4 * n**2 - 1)                                                                                                                                                                                                                                     \n",
      "# p * 4 / m**2 / sigma**2 = 4 * n**2 - 1                                                                                                                                                                                                                                       \n",
      "# (p * 4 / m**2 / sigma**2) + 1 = 4 * n**2                                                                                                                                                                                                                                     \n",
      "# ((p * 4 / m**2 / sigma**2) + 1) / 4 =  n**2                                                                                                                                                                                                                                  \n",
      "# log(((p * 4 / m**2 / sigma**2) + 1) / 4), 2) = n                                                                                                                                                                                                                             \n",
      "\n",
      "c_1 = 0\n",
      "\n",
      "def bin_pos(n):\n",
      "    \"Return the bin position\"\n",
      "    return     1/4 * m**2 * sigma**2 * (4 * (c_1 + n)**2 - 1)\n",
      "\n",
      "def inv_bin_pos(p):\n",
      "    \"Return the inverse bin position\"\n",
      "    return sqrt(((p * 4.0 / m**2 / sigma**2) + 1) / 4) - c_1\n",
      "\n",
      "#    return log((((p * 4 / m**2 / sigma**2) + 1) / 4), 2)                                                                                                                                                                                                                      \n",
      "#    return log( ((4* p / m**2 / sigma**2) + 1 ) / 4 ,2)                                                                                                                                                                                                                       \n",
      "\n",
      "def quantize(n):\n",
      "    estimated = inv_bin_pos(n)\n",
      "    bin = ceil(estimated)\n",
      "    upper = bin_pos(bin)\n",
      "    lower = bin_pos(bin-1)\n",
      "    # return the mid point                                                                                                                                                                                                                                                     \n",
      "    mid_point = lower + (upper-lower)/2\n",
      "    if lower > n or upper < n:\n",
      "        print(n,estimated, bin,lower,mid_point,upper)\n",
      "    return mid_point\n",
      "\n",
      "# for i in range(1,100):                                                                                                                                                                                                                                                       \n",
      "#     print(quantize(i))                                                                                                                                                                                                                                                       \n",
      "\n",
      "# print(\"xxxxxxxxxxxxxxxxxxxxxxxxxxx\")                                                                                                                                                                                                                                         \n",
      "# for i in range(1,100):                                                                                                                                                                                                                                                       \n",
      "#     print(i, inv_bin_pos(i), bin_pos(inv_bin_pos(i)))     "
     ],
     "language": "python",
     "metadata": {},
     "outputs": [],
     "prompt_number": 338
    },
    {
     "cell_type": "code",
     "collapsed": false,
     "input": [
      "output = open(sys.argv[4], \"w\")\n",
      "for lno,line in enumerate(open(sys.argv[1])):\n",
      "\n",
      "    if lno % 3 == 0 or lno % 3 == 2:\n",
      "        output.write(line)\n",
      "        continue\n",
      "    # otherwise, is a second line of three line sets                                                                                                                                                                                                                           \n",
      "    fields = line.strip().split(\"\\t\")\n",
      "    newfields = fields[:2] + [str(quantize(float(field))) for field in fields[2:]]\n",
      "    output.write(\"\\t\" + \"\\t\".join(newfields) + \"\\n\")\n",
      "\n",
      "\n",
      "output.close()"
     ],
     "language": "python",
     "metadata": {},
     "outputs": [],
     "prompt_number": 327
    },
    {
     "cell_type": "code",
     "collapsed": false,
     "input": [
      "quantize(11.521)"
     ],
     "language": "python",
     "metadata": {},
     "outputs": [
      {
       "output_type": "stream",
       "stream": "stdout",
       "text": [
        "(11.521, 2.968497900617261, 3.0, 0.0, 0.0, 0.0)\n"
       ]
      },
      {
       "metadata": {},
       "output_type": "pyout",
       "prompt_number": 339,
       "text": [
        "0.0"
       ]
      }
     ],
     "prompt_number": 339
    },
    {
     "cell_type": "code",
     "collapsed": false,
     "input": [
      "quantize(12.521)"
     ],
     "language": "python",
     "metadata": {},
     "outputs": [
      {
       "output_type": "stream",
       "stream": "stdout",
       "text": [
        "(12.521, 3.091139383346706, 4.0, 0.0, 0.0, 0.0)\n"
       ]
      },
      {
       "metadata": {},
       "output_type": "pyout",
       "prompt_number": 340,
       "text": [
        "0.0"
       ]
      }
     ],
     "prompt_number": 340
    },
    {
     "cell_type": "code",
     "collapsed": false,
     "input": [
      "inv_bin_pos(11.521)"
     ],
     "language": "python",
     "metadata": {},
     "outputs": [
      {
       "metadata": {},
       "output_type": "pyout",
       "prompt_number": 341,
       "text": [
        "2.968497900617261"
       ]
      }
     ],
     "prompt_number": 341
    },
    {
     "cell_type": "code",
     "collapsed": false,
     "input": [
      "np.arange(0,1,0.01)"
     ],
     "language": "python",
     "metadata": {},
     "outputs": [
      {
       "metadata": {},
       "output_type": "pyout",
       "prompt_number": 373,
       "text": [
        "array([ 0.  ,  0.01,  0.02,  0.03,  0.04,  0.05,  0.06,  0.07,  0.08,\n",
        "        0.09,  0.1 ,  0.11,  0.12,  0.13,  0.14,  0.15,  0.16,  0.17,\n",
        "        0.18,  0.19,  0.2 ,  0.21,  0.22,  0.23,  0.24,  0.25,  0.26,\n",
        "        0.27,  0.28,  0.29,  0.3 ,  0.31,  0.32,  0.33,  0.34,  0.35,\n",
        "        0.36,  0.37,  0.38,  0.39,  0.4 ,  0.41,  0.42,  0.43,  0.44,\n",
        "        0.45,  0.46,  0.47,  0.48,  0.49,  0.5 ,  0.51,  0.52,  0.53,\n",
        "        0.54,  0.55,  0.56,  0.57,  0.58,  0.59,  0.6 ,  0.61,  0.62,\n",
        "        0.63,  0.64,  0.65,  0.66,  0.67,  0.68,  0.69,  0.7 ,  0.71,\n",
        "        0.72,  0.73,  0.74,  0.75,  0.76,  0.77,  0.78,  0.79,  0.8 ,\n",
        "        0.81,  0.82,  0.83,  0.84,  0.85,  0.86,  0.87,  0.88,  0.89,\n",
        "        0.9 ,  0.91,  0.92,  0.93,  0.94,  0.95,  0.96,  0.97,  0.98,  0.99])"
       ]
      }
     ],
     "prompt_number": 373
    },
    {
     "cell_type": "code",
     "collapsed": false,
     "input": [],
     "language": "python",
     "metadata": {},
     "outputs": [],
     "prompt_number": 145
    },
    {
     "cell_type": "code",
     "collapsed": false,
     "input": [],
     "language": "python",
     "metadata": {},
     "outputs": [],
     "prompt_number": 145
    },
    {
     "cell_type": "code",
     "collapsed": false,
     "input": [],
     "language": "python",
     "metadata": {},
     "outputs": [],
     "prompt_number": 145
    },
    {
     "cell_type": "code",
     "collapsed": false,
     "input": [],
     "language": "python",
     "metadata": {},
     "outputs": [],
     "prompt_number": 145
    },
    {
     "cell_type": "code",
     "collapsed": false,
     "input": [],
     "language": "python",
     "metadata": {},
     "outputs": [],
     "prompt_number": 145
    },
    {
     "cell_type": "code",
     "collapsed": false,
     "input": [],
     "language": "python",
     "metadata": {},
     "outputs": [],
     "prompt_number": 145
    },
    {
     "cell_type": "code",
     "collapsed": false,
     "input": [],
     "language": "python",
     "metadata": {},
     "outputs": []
    }
   ],
   "metadata": {}
  }
 ]
}